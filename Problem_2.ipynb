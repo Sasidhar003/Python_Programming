{
  "nbformat": 4,
  "nbformat_minor": 0,
  "metadata": {
    "colab": {
      "provenance": [],
      "authorship_tag": "ABX9TyPXIBp8ug8tnPc4CoEbChyU",
      "include_colab_link": true
    },
    "kernelspec": {
      "name": "python3",
      "display_name": "Python 3"
    },
    "language_info": {
      "name": "python"
    }
  },
  "cells": [
    {
      "cell_type": "markdown",
      "metadata": {
        "id": "view-in-github",
        "colab_type": "text"
      },
      "source": [
        "<a href=\"https://colab.research.google.com/github/Sasidhar003/Python_Programming/blob/main/Problem_2.ipynb\" target=\"_parent\"><img src=\"https://colab.research.google.com/assets/colab-badge.svg\" alt=\"Open In Colab\"/></a>"
      ]
    },
    {
      "cell_type": "code",
      "execution_count": null,
      "metadata": {
        "id": "odJ8MsTJohe0"
      },
      "outputs": [],
      "source": [
        "''''Exercise 2 - Strings\n",
        "Given the code below, insert the correct positive index on line 3 in order to return the comma character from the string.'''\n",
        "\n",
        "my_string = \"In 2010, someone paid 10k Bitcoin for two pizzas.\"\n",
        "\n",
        "print(my_string[7])"
      ]
    }
  ]
}