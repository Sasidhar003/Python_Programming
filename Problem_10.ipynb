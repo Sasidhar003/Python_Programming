{
  "nbformat": 4,
  "nbformat_minor": 0,
  "metadata": {
    "colab": {
      "provenance": [],
      "authorship_tag": "ABX9TyP2nEOy/dpfRmgU0DubKblU",
      "include_colab_link": true
    },
    "kernelspec": {
      "name": "python3",
      "display_name": "Python 3"
    },
    "language_info": {
      "name": "python"
    }
  },
  "cells": [
    {
      "cell_type": "markdown",
      "metadata": {
        "id": "view-in-github",
        "colab_type": "text"
      },
      "source": [
        "<a href=\"https://colab.research.google.com/github/Sasidhar003/Python_Programming/blob/main/Problem_10.ipynb\" target=\"_parent\"><img src=\"https://colab.research.google.com/assets/colab-badge.svg\" alt=\"Open In Colab\"/></a>"
      ]
    },
    {
      "cell_type": "code",
      "execution_count": null,
      "metadata": {
        "colab": {
          "base_uri": "https://localhost:8080/"
        },
        "id": "k7DxwzqLufZC",
        "outputId": "4f2b5c3f-1403-49d2-f0c8-032a5b335b36"
      },
      "outputs": [
        {
          "output_type": "stream",
          "name": "stdout",
          "text": [
            "In2010,someonepaid10kBitcoinfortwopizzas.\n"
          ]
        }
      ],
      "source": [
        "#Exercise 10 - Strings\n",
        "#Given the code below, insert the correct method on line 3 in order to remove all spaces (single Space characters from the keyboard) from the string.\n",
        "\n",
        "my_string = \"In 2010, someone paid 10k Bitcoin for two pizzas.\"\n",
        "\n",
        "print(my_string.replace(\" \", \"\"))"
      ]
    },
    {
      "cell_type": "code",
      "source": [],
      "metadata": {
        "id": "-MTmpgEru1Dd"
      },
      "execution_count": null,
      "outputs": []
    }
  ]
}