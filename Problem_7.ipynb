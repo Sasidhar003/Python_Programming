{
  "nbformat": 4,
  "nbformat_minor": 0,
  "metadata": {
    "colab": {
      "provenance": [],
      "authorship_tag": "ABX9TyOrt5cDSYM68kJIDVABqloN",
      "include_colab_link": true
    },
    "kernelspec": {
      "name": "python3",
      "display_name": "Python 3"
    },
    "language_info": {
      "name": "python"
    }
  },
  "cells": [
    {
      "cell_type": "markdown",
      "metadata": {
        "id": "view-in-github",
        "colab_type": "text"
      },
      "source": [
        "<a href=\"https://colab.research.google.com/github/Sasidhar003/Python_Programming/blob/main/Problem_7.ipynb\" target=\"_parent\"><img src=\"https://colab.research.google.com/assets/colab-badge.svg\" alt=\"Open In Colab\"/></a>"
      ]
    },
    {
      "cell_type": "code",
      "execution_count": null,
      "metadata": {
        "colab": {
          "base_uri": "https://localhost:8080/"
        },
        "id": "dNDUz4OHBOZW",
        "outputId": "3da5b767-5d4e-49c0-d50c-8f0330fc6d89"
      },
      "outputs": [
        {
          "output_type": "stream",
          "name": "stdout",
          "text": [
            "26\n"
          ]
        }
      ],
      "source": [
        "#Exercise 7 - Strings\n",
        "#Given the code below, insert the correct method on line 3 in order to get the index at which the substring Bitcoin starts.\n",
        "\n",
        "my_string = \"In 2010, someone paid 10k Bitcoin for two pizzas.\"\n",
        "\n",
        "print(my_string.find(\"Bitcoin\"))"
      ]
    },
    {
      "cell_type": "code",
      "source": [],
      "metadata": {
        "id": "NFQGpfw7BWHJ"
      },
      "execution_count": null,
      "outputs": []
    }
  ]
}